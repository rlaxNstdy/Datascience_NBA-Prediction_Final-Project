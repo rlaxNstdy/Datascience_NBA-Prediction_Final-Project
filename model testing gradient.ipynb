{
 "cells": [
  {
   "cell_type": "code",
   "execution_count": 32,
   "metadata": {},
   "outputs": [
    {
     "name": "stdout",
     "output_type": "stream",
     "text": [
      "Requirement already satisfied: matplotlib in c:\\users\\user\\onedrive\\documents\\binus\\year 2\\fundamental of data science\\code\\project\\.venv\\lib\\site-packages (3.9.3)\n",
      "Requirement already satisfied: contourpy>=1.0.1 in c:\\users\\user\\onedrive\\documents\\binus\\year 2\\fundamental of data science\\code\\project\\.venv\\lib\\site-packages (from matplotlib) (1.3.1)\n",
      "Requirement already satisfied: cycler>=0.10 in c:\\users\\user\\onedrive\\documents\\binus\\year 2\\fundamental of data science\\code\\project\\.venv\\lib\\site-packages (from matplotlib) (0.12.1)\n",
      "Requirement already satisfied: fonttools>=4.22.0 in c:\\users\\user\\onedrive\\documents\\binus\\year 2\\fundamental of data science\\code\\project\\.venv\\lib\\site-packages (from matplotlib) (4.55.1)\n",
      "Requirement already satisfied: kiwisolver>=1.3.1 in c:\\users\\user\\onedrive\\documents\\binus\\year 2\\fundamental of data science\\code\\project\\.venv\\lib\\site-packages (from matplotlib) (1.4.7)\n",
      "Requirement already satisfied: numpy>=1.23 in c:\\users\\user\\onedrive\\documents\\binus\\year 2\\fundamental of data science\\code\\project\\.venv\\lib\\site-packages (from matplotlib) (2.1.3)\n",
      "Requirement already satisfied: packaging>=20.0 in c:\\users\\user\\onedrive\\documents\\binus\\year 2\\fundamental of data science\\code\\project\\.venv\\lib\\site-packages (from matplotlib) (24.2)\n",
      "Requirement already satisfied: pillow>=8 in c:\\users\\user\\onedrive\\documents\\binus\\year 2\\fundamental of data science\\code\\project\\.venv\\lib\\site-packages (from matplotlib) (11.0.0)\n",
      "Requirement already satisfied: pyparsing>=2.3.1 in c:\\users\\user\\onedrive\\documents\\binus\\year 2\\fundamental of data science\\code\\project\\.venv\\lib\\site-packages (from matplotlib) (3.2.0)\n",
      "Requirement already satisfied: python-dateutil>=2.7 in c:\\users\\user\\onedrive\\documents\\binus\\year 2\\fundamental of data science\\code\\project\\.venv\\lib\\site-packages (from matplotlib) (2.9.0.post0)\n",
      "Requirement already satisfied: six>=1.5 in c:\\users\\user\\onedrive\\documents\\binus\\year 2\\fundamental of data science\\code\\project\\.venv\\lib\\site-packages (from python-dateutil>=2.7->matplotlib) (1.16.0)\n"
     ]
    }
   ],
   "source": [
    "!pip install matplotlib "
   ]
  },
  {
   "cell_type": "code",
   "execution_count": 33,
   "metadata": {},
   "outputs": [
    {
     "name": "stdout",
     "output_type": "stream",
     "text": [
      "Requirement already satisfied: scikit-learn in c:\\users\\user\\onedrive\\documents\\binus\\year 2\\fundamental of data science\\code\\project\\.venv\\lib\\site-packages (1.5.2)\n",
      "Requirement already satisfied: numpy>=1.19.5 in c:\\users\\user\\onedrive\\documents\\binus\\year 2\\fundamental of data science\\code\\project\\.venv\\lib\\site-packages (from scikit-learn) (2.1.3)\n",
      "Requirement already satisfied: scipy>=1.6.0 in c:\\users\\user\\onedrive\\documents\\binus\\year 2\\fundamental of data science\\code\\project\\.venv\\lib\\site-packages (from scikit-learn) (1.14.1)\n",
      "Requirement already satisfied: joblib>=1.2.0 in c:\\users\\user\\onedrive\\documents\\binus\\year 2\\fundamental of data science\\code\\project\\.venv\\lib\\site-packages (from scikit-learn) (1.4.2)\n",
      "Requirement already satisfied: threadpoolctl>=3.1.0 in c:\\users\\user\\onedrive\\documents\\binus\\year 2\\fundamental of data science\\code\\project\\.venv\\lib\\site-packages (from scikit-learn) (3.5.0)\n"
     ]
    }
   ],
   "source": [
    "!pip install scikit-learn"
   ]
  },
  {
   "cell_type": "code",
   "execution_count": 34,
   "metadata": {},
   "outputs": [
    {
     "name": "stdout",
     "output_type": "stream",
     "text": [
      "Requirement already satisfied: xgboost in c:\\users\\user\\onedrive\\documents\\binus\\year 2\\fundamental of data science\\code\\project\\.venv\\lib\\site-packages (2.1.3)\n",
      "Requirement already satisfied: numpy in c:\\users\\user\\onedrive\\documents\\binus\\year 2\\fundamental of data science\\code\\project\\.venv\\lib\\site-packages (from xgboost) (2.1.3)\n",
      "Requirement already satisfied: scipy in c:\\users\\user\\onedrive\\documents\\binus\\year 2\\fundamental of data science\\code\\project\\.venv\\lib\\site-packages (from xgboost) (1.14.1)\n",
      "Note: you may need to restart the kernel to use updated packages.\n"
     ]
    }
   ],
   "source": [
    "pip install xgboost"
   ]
  },
  {
   "cell_type": "code",
   "execution_count": 36,
   "metadata": {},
   "outputs": [
    {
     "name": "stdout",
     "output_type": "stream",
     "text": [
      "Initial shape of data: (120, 16)\n",
      "Shape after dropping NaNs: (120, 16)\n",
      "Shape after converting to numeric and dropping NaNs: (0, 16)\n"
     ]
    },
    {
     "ename": "ValueError",
     "evalue": "Feature matrix X is empty after preprocessing.",
     "output_type": "error",
     "traceback": [
      "\u001b[1;31m---------------------------------------------------------------------------\u001b[0m",
      "\u001b[1;31mValueError\u001b[0m                                Traceback (most recent call last)",
      "Cell \u001b[1;32mIn[36], line 43\u001b[0m\n\u001b[0;32m     41\u001b[0m \u001b[38;5;66;03m# Check if X is empty before proceeding\u001b[39;00m\n\u001b[0;32m     42\u001b[0m \u001b[38;5;28;01mif\u001b[39;00m X\u001b[38;5;241m.\u001b[39mempty:\n\u001b[1;32m---> 43\u001b[0m     \u001b[38;5;28;01mraise\u001b[39;00m \u001b[38;5;167;01mValueError\u001b[39;00m(\u001b[38;5;124m\"\u001b[39m\u001b[38;5;124mFeature matrix X is empty after preprocessing.\u001b[39m\u001b[38;5;124m\"\u001b[39m)\n\u001b[0;32m     45\u001b[0m \u001b[38;5;66;03m# Detect and remove outliers using Isolation Forest\u001b[39;00m\n\u001b[0;32m     46\u001b[0m iso_forest \u001b[38;5;241m=\u001b[39m IsolationForest(contamination\u001b[38;5;241m=\u001b[39m\u001b[38;5;241m0.1\u001b[39m)  \u001b[38;5;66;03m# Adjust contamination as needed\u001b[39;00m\n",
      "\u001b[1;31mValueError\u001b[0m: Feature matrix X is empty after preprocessing."
     ]
    }
   ],
   "source": [
    "import pandas as pd\n",
    "import numpy as np\n",
    "import matplotlib.pyplot as plt\n",
    "from sklearn.model_selection import train_test_split\n",
    "from sklearn.preprocessing import StandardScaler\n",
    "from sklearn.metrics import accuracy_score\n",
    "from xgboost import XGBClassifier\n",
    "from sklearn.ensemble import IsolationForest\n",
    "\n",
    "# Load the dataset\n",
    "data = pd.read_csv('all_nba_standing_2021-2025.csv')\n",
    "\n",
    "# Check initial shape of the data\n",
    "print(f'Initial shape of data: {data.shape}')\n",
    "\n",
    "# Preprocess the dataset\n",
    "data.dropna(inplace=True)  # Remove rows with missing values\n",
    "print(f'Shape after dropping NaNs: {data.shape}')\n",
    "\n",
    "# Select features for the model\n",
    "features = [\n",
    "    'W', 'L', 'PCT', 'GB', 'HOME', 'AWAY', \n",
    "    'DIV', 'CONF', 'PPG', 'OPP PPG', 'DIFF', 'STRK', 'L10'\n",
    "]\n",
    "\n",
    "# Check for non-numeric values and convert them\n",
    "for feature in features:\n",
    "    data[feature] = pd.to_numeric(data[feature], errors='coerce')  # Convert to numeric, set errors to NaN\n",
    "\n",
    "# Drop rows with NaN values after conversion\n",
    "data.dropna(subset=features, inplace=True)\n",
    "print(f'Shape after converting to numeric and dropping NaNs: {data.shape}')\n",
    "\n",
    "# Target variable\n",
    "data['target'] = np.where(data['W'] > data['L'], 1, 0)  # 1 if wins > losses, else 0\n",
    "\n",
    "# Prepare feature matrix and target vector\n",
    "X = data[features]\n",
    "y = data['target']\n",
    "\n",
    "# Check if X is empty before proceeding\n",
    "if X.empty:\n",
    "    raise ValueError(\"Feature matrix X is empty after preprocessing.\")\n",
    "\n",
    "# Detect and remove outliers using Isolation Forest\n",
    "iso_forest = IsolationForest(contamination=0.1)  # Adjust contamination as needed\n",
    "outliers = iso_forest.fit_predict(X)\n",
    "\n",
    "# Filter the data to remove outliers\n",
    "X = X[outliers != -1]\n",
    "y = y[outliers != -1]\n",
    "\n",
    "# Check the shapes of X and y\n",
    "print(f'Shape of X after outlier removal: {X.shape}, Shape of y after outlier removal: {y.shape}')\n",
    "\n",
    "# Ensure that the lengths match\n",
    "if len(X) != len(y):\n",
    "    raise ValueError(\"The number of samples in X and y do not match after outlier removal.\")\n",
    "\n",
    "# Split the data into training and testing sets\n",
    "X_train, X_test, y_train, y_test = train_test_split(X, y, test_size=0.2, random_state=42)\n",
    "\n",
    "# Standardize the features\n",
    "scaler = StandardScaler()\n",
    "X_train_scaled = scaler.fit_transform(X_train)\n",
    "X_test_scaled = scaler.transform(X_test)\n",
    "\n",
    "# Train a Gradient Boosting model (XGBoost)\n",
    "model = XGBClassifier(use_label_encoder=False, eval_metric='logloss')\n",
    "model.fit(X_train_scaled, y_train)\n",
    "\n",
    "# Predict the outcomes\n",
    "predictions = model.predict(X_test_scaled)\n",
    "\n",
    "# Print accuracy\n",
    "accuracy = accuracy_score(y_test, predictions)\n",
    "print(f'Accuracy: {accuracy:.2f}')\n",
    "\n",
    "# Get feature importances\n",
    "importances = model.feature_importances_\n",
    "\n",
    "# Visualize feature importances\n",
    "plt.figure(figsize=(10, 6))\n",
    "plt.barh(features, importances, color='skyblue')\n",
    "plt.xlabel('Importance Score')\n",
    "plt.title('Feature Importances from XGBoost Model')\n",
    "plt.axvline(0, color='black', lw=0.8)\n",
    "plt.show()"
   ]
  }
 ],
 "metadata": {
  "kernelspec": {
   "display_name": ".venv",
   "language": "python",
   "name": "python3"
  },
  "language_info": {
   "codemirror_mode": {
    "name": "ipython",
    "version": 3
   },
   "file_extension": ".py",
   "mimetype": "text/x-python",
   "name": "python",
   "nbconvert_exporter": "python",
   "pygments_lexer": "ipython3",
   "version": "3.10.5"
  }
 },
 "nbformat": 4,
 "nbformat_minor": 2
}
