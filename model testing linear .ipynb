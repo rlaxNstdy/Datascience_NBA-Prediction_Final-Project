{
 "cells": [
  {
   "cell_type": "code",
   "execution_count": 6,
   "metadata": {},
   "outputs": [
    {
     "name": "stdout",
     "output_type": "stream",
     "text": [
      "Requirement already satisfied: matplotlib in c:\\users\\user\\onedrive\\documents\\binus\\year 2\\fundamental of data science\\code\\project\\.venv\\lib\\site-packages (3.9.3)\n",
      "Requirement already satisfied: scikit-learn in c:\\users\\user\\onedrive\\documents\\binus\\year 2\\fundamental of data science\\code\\project\\.venv\\lib\\site-packages (1.5.2)\n",
      "Requirement already satisfied: contourpy>=1.0.1 in c:\\users\\user\\onedrive\\documents\\binus\\year 2\\fundamental of data science\\code\\project\\.venv\\lib\\site-packages (from matplotlib) (1.3.1)\n",
      "Requirement already satisfied: cycler>=0.10 in c:\\users\\user\\onedrive\\documents\\binus\\year 2\\fundamental of data science\\code\\project\\.venv\\lib\\site-packages (from matplotlib) (0.12.1)\n",
      "Requirement already satisfied: fonttools>=4.22.0 in c:\\users\\user\\onedrive\\documents\\binus\\year 2\\fundamental of data science\\code\\project\\.venv\\lib\\site-packages (from matplotlib) (4.55.1)\n",
      "Requirement already satisfied: kiwisolver>=1.3.1 in c:\\users\\user\\onedrive\\documents\\binus\\year 2\\fundamental of data science\\code\\project\\.venv\\lib\\site-packages (from matplotlib) (1.4.7)\n",
      "Requirement already satisfied: numpy>=1.23 in c:\\users\\user\\onedrive\\documents\\binus\\year 2\\fundamental of data science\\code\\project\\.venv\\lib\\site-packages (from matplotlib) (2.1.3)\n",
      "Requirement already satisfied: packaging>=20.0 in c:\\users\\user\\onedrive\\documents\\binus\\year 2\\fundamental of data science\\code\\project\\.venv\\lib\\site-packages (from matplotlib) (24.2)\n",
      "Requirement already satisfied: pillow>=8 in c:\\users\\user\\onedrive\\documents\\binus\\year 2\\fundamental of data science\\code\\project\\.venv\\lib\\site-packages (from matplotlib) (11.0.0)\n",
      "Requirement already satisfied: pyparsing>=2.3.1 in c:\\users\\user\\onedrive\\documents\\binus\\year 2\\fundamental of data science\\code\\project\\.venv\\lib\\site-packages (from matplotlib) (3.2.0)\n",
      "Requirement already satisfied: python-dateutil>=2.7 in c:\\users\\user\\onedrive\\documents\\binus\\year 2\\fundamental of data science\\code\\project\\.venv\\lib\\site-packages (from matplotlib) (2.9.0.post0)\n",
      "Requirement already satisfied: scipy>=1.6.0 in c:\\users\\user\\onedrive\\documents\\binus\\year 2\\fundamental of data science\\code\\project\\.venv\\lib\\site-packages (from scikit-learn) (1.14.1)\n",
      "Requirement already satisfied: joblib>=1.2.0 in c:\\users\\user\\onedrive\\documents\\binus\\year 2\\fundamental of data science\\code\\project\\.venv\\lib\\site-packages (from scikit-learn) (1.4.2)\n",
      "Requirement already satisfied: threadpoolctl>=3.1.0 in c:\\users\\user\\onedrive\\documents\\binus\\year 2\\fundamental of data science\\code\\project\\.venv\\lib\\site-packages (from scikit-learn) (3.5.0)\n",
      "Requirement already satisfied: six>=1.5 in c:\\users\\user\\onedrive\\documents\\binus\\year 2\\fundamental of data science\\code\\project\\.venv\\lib\\site-packages (from python-dateutil>=2.7->matplotlib) (1.16.0)\n",
      "Note: you may need to restart the kernel to use updated packages.\n"
     ]
    }
   ],
   "source": [
    "pip install matplotlib scikit-learn\n"
   ]
  },
  {
   "cell_type": "code",
   "execution_count": 7,
   "metadata": {},
   "outputs": [
    {
     "name": "stdout",
     "output_type": "stream",
     "text": [
      "Requirement already satisfied: matplotlib in c:\\users\\user\\onedrive\\documents\\binus\\year 2\\fundamental of data science\\code\\project\\.venv\\lib\\site-packages (3.9.3)\n",
      "Requirement already satisfied: contourpy>=1.0.1 in c:\\users\\user\\onedrive\\documents\\binus\\year 2\\fundamental of data science\\code\\project\\.venv\\lib\\site-packages (from matplotlib) (1.3.1)\n",
      "Requirement already satisfied: cycler>=0.10 in c:\\users\\user\\onedrive\\documents\\binus\\year 2\\fundamental of data science\\code\\project\\.venv\\lib\\site-packages (from matplotlib) (0.12.1)\n",
      "Requirement already satisfied: fonttools>=4.22.0 in c:\\users\\user\\onedrive\\documents\\binus\\year 2\\fundamental of data science\\code\\project\\.venv\\lib\\site-packages (from matplotlib) (4.55.1)\n",
      "Requirement already satisfied: kiwisolver>=1.3.1 in c:\\users\\user\\onedrive\\documents\\binus\\year 2\\fundamental of data science\\code\\project\\.venv\\lib\\site-packages (from matplotlib) (1.4.7)\n",
      "Requirement already satisfied: numpy>=1.23 in c:\\users\\user\\onedrive\\documents\\binus\\year 2\\fundamental of data science\\code\\project\\.venv\\lib\\site-packages (from matplotlib) (2.1.3)\n",
      "Requirement already satisfied: packaging>=20.0 in c:\\users\\user\\onedrive\\documents\\binus\\year 2\\fundamental of data science\\code\\project\\.venv\\lib\\site-packages (from matplotlib) (24.2)\n",
      "Requirement already satisfied: pillow>=8 in c:\\users\\user\\onedrive\\documents\\binus\\year 2\\fundamental of data science\\code\\project\\.venv\\lib\\site-packages (from matplotlib) (11.0.0)\n",
      "Requirement already satisfied: pyparsing>=2.3.1 in c:\\users\\user\\onedrive\\documents\\binus\\year 2\\fundamental of data science\\code\\project\\.venv\\lib\\site-packages (from matplotlib) (3.2.0)\n",
      "Requirement already satisfied: python-dateutil>=2.7 in c:\\users\\user\\onedrive\\documents\\binus\\year 2\\fundamental of data science\\code\\project\\.venv\\lib\\site-packages (from matplotlib) (2.9.0.post0)\n",
      "Requirement already satisfied: six>=1.5 in c:\\users\\user\\onedrive\\documents\\binus\\year 2\\fundamental of data science\\code\\project\\.venv\\lib\\site-packages (from python-dateutil>=2.7->matplotlib) (1.16.0)\n"
     ]
    }
   ],
   "source": [
    "!pip install matplotlib\n"
   ]
  },
  {
   "cell_type": "code",
   "execution_count": 8,
   "metadata": {},
   "outputs": [],
   "source": [
    "import pandas as pd\n",
    "import numpy as np\n",
    "import matplotlib.pyplot as plt\n",
    "from sklearn.model_selection import train_test_split\n",
    "from sklearn.linear_model import LogisticRegression\n",
    "from sklearn.preprocessing import StandardScaler\n",
    "from sklearn.metrics import accuracy_score\n",
    "from sklearn.ensemble import IsolationForest"
   ]
  },
  {
   "cell_type": "code",
   "execution_count": 9,
   "metadata": {},
   "outputs": [
    {
     "name": "stdout",
     "output_type": "stream",
     "text": [
      "Accuracy: 0.95\n"
     ]
    },
    {
     "data": {
      "image/png": "[encoded data removed]",
      "text/plain": [
       "<Figure size 1000x600 with 1 Axes>"
      ]
     },
     "metadata": {},
     "output_type": "display_data"
    }
   ],
   "source": [
    "import pandas as pd\n",
    "import numpy as np\n",
    "import matplotlib.pyplot as plt\n",
    "from sklearn.model_selection import train_test_split\n",
    "from sklearn.linear_model import LogisticRegression\n",
    "from sklearn.preprocessing import StandardScaler\n",
    "from sklearn.metrics import accuracy_score\n",
    "from sklearn.ensemble import IsolationForest\n",
    "\n",
    "# Load the dataset\n",
    "data = pd.read_csv('all_nba_standing_2021-2025.csv')\n",
    "\n",
    "# Preprocess the dataset\n",
    "data.dropna(inplace=True)  # Remove rows with missing values\n",
    "\n",
    "# Select features for the model\n",
    "features = [\n",
    "    'W', 'L', 'PCT', 'GB'\n",
    " , 'PPG', 'OPP PPG', 'DIFF'\n",
    "]\n",
    "\n",
    "# Convert features to numeric, forcing errors to NaN\n",
    "X = data[features].apply(pd.to_numeric, errors='coerce')\n",
    "\n",
    "# Optional: Fill NaN values with a specific value or drop them\n",
    "X.fillna(0, inplace=True)  # Replace NaN with 0\n",
    "# or\n",
    "# X.dropna(inplace=True)  # Drop rows with NaN values\n",
    "\n",
    "# Target variable (for simplicity, let's say we want to predict if a team is likely to win)\n",
    "data['target'] = np.where(data['W'] > data['L'], 1, 0)  # 1 if wins > losses, else 0\n",
    "y = data['target']\n",
    "\n",
    "# Detect and remove outliers using Isolation Forest\n",
    "iso_forest = IsolationForest(contamination=0.1)  # Adjust contamination as needed\n",
    "outliers = iso_forest.fit_predict(X)\n",
    "X = X[outliers != -1]\n",
    "y = y[outliers != -1]\n",
    "\n",
    "# Split the data into training and testing sets\n",
    "X_train, X_test, y_train, y_test = train_test_split(X, y, test_size=0.2, random_state=42)\n",
    "\n",
    "# Standardize the features\n",
    "scaler = StandardScaler()\n",
    "X_train_scaled = scaler.fit_transform(X_train)\n",
    "X_test_scaled = scaler.transform(X_test)\n",
    "\n",
    "# Train a Logistic Regression model\n",
    "model = LogisticRegression()\n",
    "model.fit(X_train_scaled, y_train)\n",
    "\n",
    "# Predict the outcomes\n",
    "predictions = model.predict(X_test_scaled)\n",
    "\n",
    "# Print accuracy\n",
    "accuracy = accuracy_score(y_test, predictions)\n",
    "print(f'Accuracy: {accuracy:.2f}')\n",
    "\n",
    "# Get feature coefficients\n",
    "coefficients = model.coef_[0]\n",
    "features = X.columns\n",
    "\n",
    "# Visualize feature coefficients\n",
    "plt.figure(figsize=(10, 6))\n",
    "plt.barh(features, coefficients, color='skyblue')\n",
    "plt.xlabel('Coefficient Value')\n",
    "plt.title('Feature Coefficients from Logistic Regression Model')\n",
    "plt.axvline(0, color='black', lw=0.8)\n",
    "plt.show()"
   ]
  }
 ],
 "metadata": {
  "kernelspec": {
   "display_name": ".venv",
   "language": "python",
   "name": "python3"
  },
  "language_info": {
   "codemirror_mode": {
    "name": "ipython",
    "version": 3
   },
   "file_extension": ".py",
   "mimetype": "text/x-python",
   "name": "python",
   "nbconvert_exporter": "python",
   "pygments_lexer": "ipython3",
   "version": "3.10.5"
  }
 },
 "nbformat": 4,
 "nbformat_minor": 2
}
